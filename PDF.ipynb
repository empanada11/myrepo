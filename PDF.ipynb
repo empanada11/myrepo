{
  "nbformat": 4,
  "nbformat_minor": 0,
  "metadata": {
    "colab": {
      "provenance": [],
      "authorship_tag": "ABX9TyONIooMSgNpVFi2BoeRFOYX",
      "include_colab_link": true
    },
    "kernelspec": {
      "name": "python3",
      "display_name": "Python 3"
    },
    "language_info": {
      "name": "python"
    }
  },
  "cells": [
    {
      "cell_type": "markdown",
      "metadata": {
        "id": "view-in-github",
        "colab_type": "text"
      },
      "source": [
        "<a href=\"https://colab.research.google.com/github/empanada11/myrepo/blob/main/PDF.ipynb\" target=\"_parent\"><img src=\"https://colab.research.google.com/assets/colab-badge.svg\" alt=\"Open In Colab\"/></a>"
      ]
    },
    {
      "cell_type": "code",
      "execution_count": 5,
      "metadata": {
        "colab": {
          "base_uri": "https://localhost:8080/"
        },
        "id": "hKaUZlfVM4vs",
        "outputId": "3334a736-7c9c-4e1a-9b81-da250d69f41f"
      },
      "outputs": [
        {
          "output_type": "stream",
          "name": "stdout",
          "text": [
            "Looking in indexes: https://pypi.org/simple, https://us-python.pkg.dev/colab-wheels/public/simple/\n",
            "Requirement already satisfied: PyPDF2 in /usr/local/lib/python3.9/dist-packages (3.0.1)\n",
            "Requirement already satisfied: typing_extensions>=3.10.0.0 in /usr/local/lib/python3.9/dist-packages (from PyPDF2) (4.5.0)\n",
            "Looking in indexes: https://pypi.org/simple, https://us-python.pkg.dev/colab-wheels/public/simple/\n",
            "Collecting pymupdf\n",
            "  Downloading PyMuPDF-1.21.1-cp39-cp39-manylinux_2_17_x86_64.manylinux2014_x86_64.whl (14.0 MB)\n",
            "\u001b[2K     \u001b[90m━━━━━━━━━━━━━━━━━━━━━━━━━━━━━━━━━━━━━━━━\u001b[0m \u001b[32m14.0/14.0 MB\u001b[0m \u001b[31m55.2 MB/s\u001b[0m eta \u001b[36m0:00:00\u001b[0m\n",
            "\u001b[?25hInstalling collected packages: pymupdf\n",
            "Successfully installed pymupdf-1.21.1\n"
          ]
        }
      ],
      "source": [
        "!pip install PyPDF2\n",
        "!pip install pymupdf"
      ]
    },
    {
      "cell_type": "code",
      "source": [
        "import PyPDF2\n",
        "import fitz\n",
        "import os\n",
        "import csv\n"
      ],
      "metadata": {
        "id": "iips0ECvNGZq"
      },
      "execution_count": 29,
      "outputs": []
    },
    {
      "cell_type": "code",
      "source": [
        "pdf_file = open('/content/sample_data/W-04-Timeseries-ACF-AR.pdf', 'rb')\n",
        "pdf_file = fitz.open('/content/sample_data/W-04-Timeseries-ACF-AR.pdf')\n"
      ],
      "metadata": {
        "id": "reFMCXxSNKQ4"
      },
      "execution_count": 30,
      "outputs": []
    },
    {
      "cell_type": "code",
      "source": [
        "print(os.getcwd())\n",
        "output_path = '/content/output.csv'"
      ],
      "metadata": {
        "colab": {
          "base_uri": "https://localhost:8080/"
        },
        "id": "YJ5TePZGNa9P",
        "outputId": "ece0fd4a-7fa9-46b5-b4b8-b8c04781cffd"
      },
      "execution_count": 31,
      "outputs": [
        {
          "output_type": "stream",
          "name": "stdout",
          "text": [
            "/content\n"
          ]
        }
      ]
    },
    {
      "cell_type": "code",
      "source": [
        "\n",
        "#this does not work for this\n",
        "for page in pdf_file:\n",
        "\n",
        "    # Extract the text content from the page\n",
        "    content = page.get_text()\n",
        "\n",
        "    # Split the content into lines\n",
        "    lines = content.split('\\n')\n",
        "\n",
        "    # Get the title from the first line\n",
        "    title = lines[0]\n",
        "\n",
        "    # Get the rest of the content (excluding the title)\n",
        "    rest_of_content = '\\n'.join(lines[1:])\n",
        "\n",
        "    # Print the title and the rest of the content as a two-column table\n",
        "    print('{:<50}{}'.format(title, rest_of_content))\n"
      ],
      "metadata": {
        "id": "v1yWIrbmNiQ9"
      },
      "execution_count": null,
      "outputs": []
    },
    {
      "cell_type": "code",
      "source": [
        "#this works but it does not give me a csv file\n",
        "with open('output.txt', 'w') as f:\n",
        "\n",
        "    # Loop through each page in the PDF file\n",
        "    for page in pdf_file:\n",
        "\n",
        "        # Extract the text content from the page\n",
        "        content = page.get_text()\n",
        "\n",
        "        # Split the content into lines\n",
        "        lines = content.split('\\n')\n",
        "\n",
        "        # Get the title from the first line\n",
        "        title = lines[0]\n",
        "\n",
        "        # Get the rest of the content (excluding the title)\n",
        "        rest_of_content = '\\n'.join(lines[1:])\n",
        "\n",
        "        # Write the title and the rest of the content to the output file\n",
        "        f.write('{:<50}{}\\n'.format(title, rest_of_content))\n",
        "\n",
        "pdf_file.close()"
      ],
      "metadata": {
        "id": "D8T9ySlEO1KM"
      },
      "execution_count": 27,
      "outputs": []
    },
    {
      "cell_type": "code",
      "source": [
        "#with open(output_path, 'w', newline='', encoding='utf-8') as f:\n",
        "\n",
        "    # Create a CSV writer object\n",
        " #   writer = csv.writer(f, delimiter=',')\n",
        "\n",
        "    # Loop through each page in the PDF file\n",
        "  #  for page in pdf_file:\n",
        "\n",
        "        # Extract the text content from the page\n",
        "   #     content = page.get_text()\n",
        "\n",
        "        # Split the content into lines\n",
        "\n",
        "    #    lines = content.split('\\n')\n",
        "        # Get the title from the first line\n",
        "     #   title = lines[0]\n",
        "\n",
        "        # Get the rest of the content (excluding the title)\n",
        "      #  rest_of_content = ';'.join(lines[1:])\n",
        "\n",
        "        # Write the title and the rest of the content to the output file as a row in the CSV file\n",
        "       # writer.writerow([title, rest_of_content])\n"
      ],
      "metadata": {
        "id": "bU9AGYZEPniN"
      },
      "execution_count": 34,
      "outputs": []
    },
    {
      "cell_type": "code",
      "source": [
        "\n"
      ],
      "metadata": {
        "id": "r4VIJ0NTPvQp"
      },
      "execution_count": 21,
      "outputs": []
    },
    {
      "cell_type": "code",
      "source": [
        "with open('output.csv', 'w', newline='', encoding='utf-8') as csv_file:\n",
        "    writer = csv.writer(csv_file, delimiter=',')\n",
        "\n",
        "    # Loop through each page in the PDF file\n",
        "    for i in range(2, pdf_file.page_count):\n",
        "        # Get the page\n",
        "        page = pdf_file[i]\n",
        "\n",
        "        # Extract the text content from the page\n",
        "        content = page.get_text()\n",
        "\n",
        "        # Check if \"Slide\" is in the content\n",
        "        if \"Slide\" in content:\n",
        "            # Find the index of the first occurrence of \"Slide\"\n",
        "            slide_index = content.index(\"Slide\")\n",
        "\n",
        "            # Get the title from the content (first line of text)\n",
        "            title = content[:slide_index].strip()\n",
        "\n",
        "            # Get the rest of the content (excluding \"Slide\" and everything after)\n",
        "            rest_of_content = content[slide_index:].split('\\n', 1)[1].strip()\n",
        "\n",
        "            # Write the title and rest of content to the CSV file\n",
        "            writer.writerow([title, rest_of_content])"
      ],
      "metadata": {
        "id": "rA3agVzHRudR"
      },
      "execution_count": 40,
      "outputs": []
    },
    {
      "cell_type": "code",
      "source": [],
      "metadata": {
        "id": "tI-6aF-oRw_Q"
      },
      "execution_count": null,
      "outputs": []
    }
  ]
}